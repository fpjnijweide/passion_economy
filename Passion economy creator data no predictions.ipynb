{
 "cells": [
  {
   "cell_type": "markdown",
   "source": [
    "# Passion economy creator income data\r\n",
    "\r\n",
    "In this notebook, I explore the distribution of income of Patreon and OnlyFans creators. \r\n",
    "\r\n",
    "The sources used for this research are [Graphtreon](https://graphtreon.com/) and [ranking-fans.com](https://ranking-fans.com) (NSFW). These sites aggregate data from Patreon and Onlyfans. With only a few API calls, I was able to gather income data for hundreds of thousands of creators.\r\n",
    "\r\n",
    "This research was conducted for the [Good Data Initiative](https://www.gooddatainitiative.com/), a Cambridge-based think tank. It will be used in a review article on the passion economy, that will be published in October 2021. The idea to use raw data from these platforms to reach conclusions about inequalities and the distribution of wealth was largely inspired by Thomas Hollands' article [The Economics of Onlyfans](https://xsrus.com/the-economics-of-onlyfans). While the initial approach was basde on his [source code](https://github.com/ThomHollands/onlyfans) and the data he scraped, the final research does not use his dataset as it is too small (and biased towards popular creators)."
   ],
   "metadata": {}
  },
  {
   "cell_type": "code",
   "execution_count": 1,
   "source": [
    "import numpy as np\r\n",
    "import os\r\n",
    "import json\r\n",
    "import requests\r\n",
    "import os\r\n",
    "import seaborn as sns\r\n",
    "import pandas as pd\r\n",
    "import matplotlib.pyplot as plt\r\n",
    "import json\r\n",
    "from sklearn.gaussian_process import GaussianProcessRegressor\r\n",
    "from sklearn.gaussian_process.kernels import RBF, WhiteKernel, DotProduct\r\n",
    "import scipy.stats"
   ],
   "outputs": [],
   "metadata": {}
  },
  {
   "cell_type": "markdown",
   "source": [
    "# Gathering patreon data"
   ],
   "metadata": {}
  },
  {
   "cell_type": "code",
   "execution_count": 2,
   "source": [
    "if not os.path.exists('patreon_json'):\r\n",
    "    os.makedirs('patreon_json')\r\n",
    "patreon_categories = [\"podcasts\", \"video\", \"games\", \"cosplay\", \"comics\", \"writing\", \"music\", \"adult-games\", \"adult-photography\", \"adult-video\", \"adult-cosplay\", \"animation\", \"drawing-painting\", \"photography\", \"crafts-diy\", \"dance-theater\", \"magazine\", \"3d-printing\", \"other\", \"adult-animation\", \"adult-comics\", \"adult-music\", \"adult-writing\", \"adult-drawing-painting\", \"adult-podcasts\", \"adult-crafts-diy\", \"adult-dance-theater\", \"adult-magazine\", \"adult-3d-printing\", \"adult-other\"]\r\n",
    "\r\n",
    "for category in patreon_categories:\r\n",
    "    if not os.path.isfile('patreon_json/' + category + '.json'):\r\n",
    "        print(\"Getting \" + category)\r\n",
    "        url = 'https://graphtreon.com/api/creators/' + category\r\n",
    "        response = requests.get(url)\r\n",
    "\r\n",
    "        with open('patreon_json/' + category + '.json', 'wb') as outf:\r\n",
    "            outf.write(response.content)"
   ],
   "outputs": [],
   "metadata": {}
  },
  {
   "cell_type": "code",
   "execution_count": 3,
   "source": [
    "patreon_list = []\r\n",
    "\r\n",
    "for category in patreon_categories:\r\n",
    "    f = open('patreon_json/' + category + '.json')\r\n",
    "    this_json = json.load(f)\r\n",
    "    f.close()\r\n",
    "    patreon_list += this_json['data']\r\n",
    "\r\n",
    "patreon_list\r\n",
    "\r\n",
    "patreon = pd.DataFrame(patreon_list)\r\n",
    "patreon.head()\r\n",
    "patreon['earnings'] = patreon['earnings'] .str.replace(\"/month\", \"\")\r\n",
    "patreon['supportPerPatron'] = patreon['supportPerPatron'] .str.replace(\"/month\", \"\")\r\n",
    "patreon['patreonPublishedAt'] = pd.to_datetime(patreon['patreonPublishedAt'])\r\n",
    "\r\n",
    "patreon = patreon[~patreon.earnings.str.contains(\"/\",na=False)] # get rid of all non-monthly figures\r\n",
    "\r\n",
    "patreon['earnings'] = patreon['earnings'].astype(float)\r\n",
    "patreon['supportPerPatron'] = patreon['supportPerPatron'].astype(float)\r\n",
    "patreon['daysRunning'] = patreon['daysRunning'].astype(int)\r\n",
    "\r\n",
    "patreon = patreon[~patreon.earnings.isna()] # get rid of entries without income data\r\n",
    "patreon[['link', 'name','description']] = patreon['link'].str.split('_&_', expand=True)\r\n",
    "\r\n",
    "patreon = patreon.drop(columns='rank')\r\n",
    "\r\n",
    "patreon=patreon.sort_values(by=['earnings'])\r\n",
    "patreon.reset_index(drop=True, inplace=True)\r\n",
    "cols = patreon.columns.tolist()\r\n",
    "cols = [cols[0]] + cols[-2:] + cols[1:-2]\r\n",
    "patreon=patreon[cols]\r\n",
    "\r\n",
    "patreon\r\n",
    "\r\n",
    "# TODO predict income data for accounts that don't have it\r\n",
    "# patreon.describe()"
   ],
   "outputs": [
    {
     "output_type": "execute_result",
     "data": {
      "text/html": [
       "<div>\n",
       "<style scoped>\n",
       "    .dataframe tbody tr th:only-of-type {\n",
       "        vertical-align: middle;\n",
       "    }\n",
       "\n",
       "    .dataframe tbody tr th {\n",
       "        vertical-align: top;\n",
       "    }\n",
       "\n",
       "    .dataframe thead th {\n",
       "        text-align: right;\n",
       "    }\n",
       "</style>\n",
       "<table border=\"1\" class=\"dataframe\">\n",
       "  <thead>\n",
       "    <tr style=\"text-align: right;\">\n",
       "      <th></th>\n",
       "      <th>link</th>\n",
       "      <th>name</th>\n",
       "      <th>description</th>\n",
       "      <th>patrons</th>\n",
       "      <th>earnings</th>\n",
       "      <th>supportPerPatron</th>\n",
       "      <th>patreonPublishedAt</th>\n",
       "      <th>daysRunning</th>\n",
       "    </tr>\n",
       "  </thead>\n",
       "  <tbody>\n",
       "    <tr>\n",
       "      <th>0</th>\n",
       "      <td>animaldrums</td>\n",
       "      <td>Mike F</td>\n",
       "      <td>water color paintings (animaldrums)</td>\n",
       "      <td>1</td>\n",
       "      <td>0.09</td>\n",
       "      <td>0.09</td>\n",
       "      <td>2014-10-25 19:33:17</td>\n",
       "      <td>2507</td>\n",
       "    </tr>\n",
       "    <tr>\n",
       "      <th>1</th>\n",
       "      <td>DRTDC90</td>\n",
       "      <td>DrTDC90</td>\n",
       "      <td>Chemistry Videos (DRTDC90)</td>\n",
       "      <td>1</td>\n",
       "      <td>0.36</td>\n",
       "      <td>0.36</td>\n",
       "      <td>2016-01-13 03:54:23</td>\n",
       "      <td>2062</td>\n",
       "    </tr>\n",
       "    <tr>\n",
       "      <th>2</th>\n",
       "      <td>jherussell</td>\n",
       "      <td>Jhe  Russell</td>\n",
       "      <td>Art, Wisdom, Astrology, Syncretism and Love (j...</td>\n",
       "      <td>1</td>\n",
       "      <td>0.37</td>\n",
       "      <td>0.37</td>\n",
       "      <td>2018-10-28 18:48:56</td>\n",
       "      <td>1043</td>\n",
       "    </tr>\n",
       "    <tr>\n",
       "      <th>3</th>\n",
       "      <td>FixItFrank</td>\n",
       "      <td>FixItFrank</td>\n",
       "      <td>Youtube Videos (FixItFrank)</td>\n",
       "      <td>1</td>\n",
       "      <td>0.39</td>\n",
       "      <td>0.39</td>\n",
       "      <td>2018-08-31 17:47:09</td>\n",
       "      <td>1101</td>\n",
       "    </tr>\n",
       "    <tr>\n",
       "      <th>4</th>\n",
       "      <td>jayjackuncensored</td>\n",
       "      <td>Jay Jack Uncensored</td>\n",
       "      <td>Podcasts (jayjackuncensored)_adlt_</td>\n",
       "      <td>1</td>\n",
       "      <td>0.43</td>\n",
       "      <td>0.43</td>\n",
       "      <td>2015-04-10 21:55:34</td>\n",
       "      <td>2340</td>\n",
       "    </tr>\n",
       "    <tr>\n",
       "      <th>...</th>\n",
       "      <td>...</td>\n",
       "      <td>...</td>\n",
       "      <td>...</td>\n",
       "      <td>...</td>\n",
       "      <td>...</td>\n",
       "      <td>...</td>\n",
       "      <td>...</td>\n",
       "      <td>...</td>\n",
       "    </tr>\n",
       "    <tr>\n",
       "      <th>128551</th>\n",
       "      <td>Flagrant2</td>\n",
       "      <td>Flagrant 2</td>\n",
       "      <td>Podcast, Video, and more (Flagrant2)</td>\n",
       "      <td>20271</td>\n",
       "      <td>97245.50</td>\n",
       "      <td>4.80</td>\n",
       "      <td>2018-10-01 19:40:24</td>\n",
       "      <td>1070</td>\n",
       "    </tr>\n",
       "    <tr>\n",
       "      <th>128552</th>\n",
       "      <td>adeptussteve</td>\n",
       "      <td>Adeptus Steve</td>\n",
       "      <td>Wild Life - An Adult RPG (adeptussteve)_adlt_</td>\n",
       "      <td>10064</td>\n",
       "      <td>103321.00</td>\n",
       "      <td>10.27</td>\n",
       "      <td>2016-04-03 11:27:15</td>\n",
       "      <td>1981</td>\n",
       "    </tr>\n",
       "    <tr>\n",
       "      <th>128553</th>\n",
       "      <td>MitchRayTA</td>\n",
       "      <td>Technical Analysis with Mitch Ray</td>\n",
       "      <td>Trade setups, livestreams, and trading educati...</td>\n",
       "      <td>988</td>\n",
       "      <td>112721.00</td>\n",
       "      <td>114.09</td>\n",
       "      <td>2018-07-13 02:02:53</td>\n",
       "      <td>1150</td>\n",
       "    </tr>\n",
       "    <tr>\n",
       "      <th>128554</th>\n",
       "      <td>chapotraphouse</td>\n",
       "      <td>Chapo Trap House</td>\n",
       "      <td>Chapo Trap House Podcast (chapotraphouse)</td>\n",
       "      <td>35787</td>\n",
       "      <td>158736.00</td>\n",
       "      <td>4.44</td>\n",
       "      <td>2016-05-23 02:16:26</td>\n",
       "      <td>1931</td>\n",
       "    </tr>\n",
       "    <tr>\n",
       "      <th>128555</th>\n",
       "      <td>thetimdillonshow</td>\n",
       "      <td>The Tim Dillon Show</td>\n",
       "      <td>a podcast (thetimdillonshow)</td>\n",
       "      <td>31695</td>\n",
       "      <td>172831.00</td>\n",
       "      <td>5.45</td>\n",
       "      <td>2019-08-16 17:43:09</td>\n",
       "      <td>751</td>\n",
       "    </tr>\n",
       "  </tbody>\n",
       "</table>\n",
       "<p>128556 rows × 8 columns</p>\n",
       "</div>"
      ],
      "text/plain": [
       "                     link                               name  \\\n",
       "0             animaldrums                             Mike F   \n",
       "1                 DRTDC90                            DrTDC90   \n",
       "2              jherussell                       Jhe  Russell   \n",
       "3              FixItFrank                         FixItFrank   \n",
       "4       jayjackuncensored                Jay Jack Uncensored   \n",
       "...                   ...                                ...   \n",
       "128551          Flagrant2                         Flagrant 2   \n",
       "128552       adeptussteve                      Adeptus Steve   \n",
       "128553         MitchRayTA  Technical Analysis with Mitch Ray   \n",
       "128554     chapotraphouse                   Chapo Trap House   \n",
       "128555   thetimdillonshow                The Tim Dillon Show   \n",
       "\n",
       "                                              description  patrons   earnings  \\\n",
       "0                     water color paintings (animaldrums)        1       0.09   \n",
       "1                              Chemistry Videos (DRTDC90)        1       0.36   \n",
       "2       Art, Wisdom, Astrology, Syncretism and Love (j...        1       0.37   \n",
       "3                             Youtube Videos (FixItFrank)        1       0.39   \n",
       "4                      Podcasts (jayjackuncensored)_adlt_        1       0.43   \n",
       "...                                                   ...      ...        ...   \n",
       "128551               Podcast, Video, and more (Flagrant2)    20271   97245.50   \n",
       "128552      Wild Life - An Adult RPG (adeptussteve)_adlt_    10064  103321.00   \n",
       "128553  Trade setups, livestreams, and trading educati...      988  112721.00   \n",
       "128554          Chapo Trap House Podcast (chapotraphouse)    35787  158736.00   \n",
       "128555                       a podcast (thetimdillonshow)    31695  172831.00   \n",
       "\n",
       "        supportPerPatron  patreonPublishedAt  daysRunning  \n",
       "0                   0.09 2014-10-25 19:33:17         2507  \n",
       "1                   0.36 2016-01-13 03:54:23         2062  \n",
       "2                   0.37 2018-10-28 18:48:56         1043  \n",
       "3                   0.39 2018-08-31 17:47:09         1101  \n",
       "4                   0.43 2015-04-10 21:55:34         2340  \n",
       "...                  ...                 ...          ...  \n",
       "128551              4.80 2018-10-01 19:40:24         1070  \n",
       "128552             10.27 2016-04-03 11:27:15         1981  \n",
       "128553            114.09 2018-07-13 02:02:53         1150  \n",
       "128554              4.44 2016-05-23 02:16:26         1931  \n",
       "128555              5.45 2019-08-16 17:43:09          751  \n",
       "\n",
       "[128556 rows x 8 columns]"
      ]
     },
     "metadata": {},
     "execution_count": 3
    }
   ],
   "metadata": {}
  },
  {
   "cell_type": "markdown",
   "source": [
    "# Gathering Onlyfans data"
   ],
   "metadata": {}
  },
  {
   "cell_type": "code",
   "execution_count": 4,
   "source": [
    "if not os.path.exists('onlyfans_json'):\r\n",
    "    os.makedirs('onlyfans_json')\r\n",
    "\r\n",
    "for page in range(101+1):\r\n",
    "    page=str(page)\r\n",
    "    if not os.path.isfile('onlyfans_json/' + page + '.json'):\r\n",
    "        print(\"Getting \" + page)\r\n",
    "        url = 'https://ranking-fans.com/wp-json/rf/v1/ofprofiles?page=' + page + '&sort=fans&order=0&size=1000&search='\r\n",
    "        # headers = {'Accept': 'application/json'}\r\n",
    "        # auth = ('username', 'userpass')\r\n",
    "        response = requests.get(url)\r\n",
    "\r\n",
    "        with open('onlyfans_json/' + page + '.json', 'wb') as outf:\r\n",
    "            outf.write(response.content)\r\n",
    "\r\n",
    "\r\n",
    "\r\n",
    "# last page is 101\r\n",
    "\r\n",
    "    "
   ],
   "outputs": [],
   "metadata": {}
  },
  {
   "cell_type": "code",
   "execution_count": 5,
   "source": [
    "onlyfans_list = []\r\n",
    "\r\n",
    "for page in range(101+1):\r\n",
    "    f = open('onlyfans_json/' + str(page) + '.json')\r\n",
    "    this_json = json.load(f)\r\n",
    "    f.close()\r\n",
    "    onlyfans_list += this_json\r\n",
    "\r\n",
    "\r\n",
    "onlyfans = pd.DataFrame(onlyfans_list)\r\n",
    "onlyfans"
   ],
   "outputs": [
    {
     "output_type": "execute_result",
     "data": {
      "text/html": [
       "<div>\n",
       "<style scoped>\n",
       "    .dataframe tbody tr th:only-of-type {\n",
       "        vertical-align: middle;\n",
       "    }\n",
       "\n",
       "    .dataframe tbody tr th {\n",
       "        vertical-align: top;\n",
       "    }\n",
       "\n",
       "    .dataframe thead th {\n",
       "        text-align: right;\n",
       "    }\n",
       "</style>\n",
       "<table border=\"1\" class=\"dataframe\">\n",
       "  <thead>\n",
       "    <tr style=\"text-align: right;\">\n",
       "      <th></th>\n",
       "      <th>username</th>\n",
       "      <th>name</th>\n",
       "      <th>posts</th>\n",
       "      <th>likes</th>\n",
       "      <th>fans</th>\n",
       "      <th>sub_price</th>\n",
       "      <th>pic_url</th>\n",
       "      <th>offer</th>\n",
       "      <th>video</th>\n",
       "      <th>audio</th>\n",
       "      <th>photo</th>\n",
       "      <th>featured</th>\n",
       "    </tr>\n",
       "  </thead>\n",
       "  <tbody>\n",
       "    <tr>\n",
       "      <th>0</th>\n",
       "      <td>suicidegirls</td>\n",
       "      <td>SuicideGirls</td>\n",
       "      <td>4100</td>\n",
       "      <td>2470000</td>\n",
       "      <td>155700</td>\n",
       "      <td>-1</td>\n",
       "      <td>https://public.onlyfans.com/files/thumbs/c144/...</td>\n",
       "      <td>0</td>\n",
       "      <td>0</td>\n",
       "      <td>0</td>\n",
       "      <td>0</td>\n",
       "      <td>0</td>\n",
       "    </tr>\n",
       "    <tr>\n",
       "      <th>1</th>\n",
       "      <td>sarameikasaifree</td>\n",
       "      <td>Sara Mei Kasai</td>\n",
       "      <td>342</td>\n",
       "      <td>1080000</td>\n",
       "      <td>147300</td>\n",
       "      <td>-1</td>\n",
       "      <td>https://public.onlyfans.com/files/thumbs/c144/...</td>\n",
       "      <td>0</td>\n",
       "      <td>0</td>\n",
       "      <td>0</td>\n",
       "      <td>0</td>\n",
       "      <td>0</td>\n",
       "    </tr>\n",
       "    <tr>\n",
       "      <th>2</th>\n",
       "      <td>scarlettmrose</td>\n",
       "      <td>Scarlett Rose ✪</td>\n",
       "      <td>376</td>\n",
       "      <td>277700</td>\n",
       "      <td>146000</td>\n",
       "      <td>-1</td>\n",
       "      <td>https://public.onlyfans.com/files/thumbs/c144/...</td>\n",
       "      <td>0</td>\n",
       "      <td>0</td>\n",
       "      <td>0</td>\n",
       "      <td>0</td>\n",
       "      <td>0</td>\n",
       "    </tr>\n",
       "    <tr>\n",
       "      <th>3</th>\n",
       "      <td>calihotwifevip</td>\n",
       "      <td>MILF WIFE HOTWIFE</td>\n",
       "      <td>37</td>\n",
       "      <td>111100</td>\n",
       "      <td>140900</td>\n",
       "      <td>-1</td>\n",
       "      <td>https://public.onlyfans.com/files/thumbs/c144/...</td>\n",
       "      <td>0</td>\n",
       "      <td>0</td>\n",
       "      <td>0</td>\n",
       "      <td>0</td>\n",
       "      <td>0</td>\n",
       "    </tr>\n",
       "    <tr>\n",
       "      <th>4</th>\n",
       "      <td>maryuofficial</td>\n",
       "      <td>Elf Horny SUPER SQUIRT 🧝‍♀️</td>\n",
       "      <td>755</td>\n",
       "      <td>285500</td>\n",
       "      <td>108800</td>\n",
       "      <td>-1</td>\n",
       "      <td>https://public.onlyfans.com/files/thumbs/c144/...</td>\n",
       "      <td>0</td>\n",
       "      <td>None</td>\n",
       "      <td>None</td>\n",
       "      <td>None</td>\n",
       "      <td>0</td>\n",
       "    </tr>\n",
       "    <tr>\n",
       "      <th>...</th>\n",
       "      <td>...</td>\n",
       "      <td>...</td>\n",
       "      <td>...</td>\n",
       "      <td>...</td>\n",
       "      <td>...</td>\n",
       "      <td>...</td>\n",
       "      <td>...</td>\n",
       "      <td>...</td>\n",
       "      <td>...</td>\n",
       "      <td>...</td>\n",
       "      <td>...</td>\n",
       "      <td>...</td>\n",
       "    </tr>\n",
       "    <tr>\n",
       "      <th>101985</th>\n",
       "      <td>bigbootymollygreenn</td>\n",
       "      <td>Molly Green</td>\n",
       "      <td>4</td>\n",
       "      <td>5</td>\n",
       "      <td>-1</td>\n",
       "      <td>20</td>\n",
       "      <td>https://public.onlyfans.com/files/thumbs/c144/...</td>\n",
       "      <td>0</td>\n",
       "      <td>0</td>\n",
       "      <td>0</td>\n",
       "      <td>0</td>\n",
       "      <td>0</td>\n",
       "    </tr>\n",
       "    <tr>\n",
       "      <th>101986</th>\n",
       "      <td>schoutenmax</td>\n",
       "      <td>Max</td>\n",
       "      <td>2</td>\n",
       "      <td>4</td>\n",
       "      <td>-1</td>\n",
       "      <td>-1</td>\n",
       "      <td>https://public.onlyfans.com/files/thumbs/c144/...</td>\n",
       "      <td>0</td>\n",
       "      <td>0</td>\n",
       "      <td>0</td>\n",
       "      <td>0</td>\n",
       "      <td>0</td>\n",
       "    </tr>\n",
       "    <tr>\n",
       "      <th>101987</th>\n",
       "      <td>she.drips</td>\n",
       "      <td>She Drips</td>\n",
       "      <td>4</td>\n",
       "      <td>22</td>\n",
       "      <td>-1</td>\n",
       "      <td>20</td>\n",
       "      <td>https://public.onlyfans.com/files/thumbs/c144/...</td>\n",
       "      <td>0</td>\n",
       "      <td>0</td>\n",
       "      <td>0</td>\n",
       "      <td>0</td>\n",
       "      <td>0</td>\n",
       "    </tr>\n",
       "    <tr>\n",
       "      <th>101988</th>\n",
       "      <td>brittstyles32</td>\n",
       "      <td>Brittany Styles</td>\n",
       "      <td>8</td>\n",
       "      <td>14</td>\n",
       "      <td>-1</td>\n",
       "      <td>7</td>\n",
       "      <td>https://public.onlyfans.com/files/thumbs/c144/...</td>\n",
       "      <td>0</td>\n",
       "      <td>0</td>\n",
       "      <td>0</td>\n",
       "      <td>0</td>\n",
       "      <td>0</td>\n",
       "    </tr>\n",
       "    <tr>\n",
       "      <th>101989</th>\n",
       "      <td>skyeandvance</td>\n",
       "      <td>Skye Lotus</td>\n",
       "      <td>19</td>\n",
       "      <td>-1</td>\n",
       "      <td>-1</td>\n",
       "      <td>6</td>\n",
       "      <td>https://public.onlyfans.com/files/thumbs/c144/...</td>\n",
       "      <td>0</td>\n",
       "      <td>0</td>\n",
       "      <td>0</td>\n",
       "      <td>0</td>\n",
       "      <td>0</td>\n",
       "    </tr>\n",
       "  </tbody>\n",
       "</table>\n",
       "<p>101990 rows × 12 columns</p>\n",
       "</div>"
      ],
      "text/plain": [
       "                   username                         name posts    likes  \\\n",
       "0              suicidegirls                 SuicideGirls  4100  2470000   \n",
       "1          sarameikasaifree               Sara Mei Kasai   342  1080000   \n",
       "2             scarlettmrose              Scarlett Rose ✪   376   277700   \n",
       "3            calihotwifevip            MILF WIFE HOTWIFE    37   111100   \n",
       "4             maryuofficial  Elf Horny SUPER SQUIRT 🧝‍♀️   755   285500   \n",
       "...                     ...                          ...   ...      ...   \n",
       "101985  bigbootymollygreenn                  Molly Green     4        5   \n",
       "101986          schoutenmax                          Max     2        4   \n",
       "101987            she.drips                    She Drips     4       22   \n",
       "101988        brittstyles32              Brittany Styles     8       14   \n",
       "101989         skyeandvance                   Skye Lotus    19       -1   \n",
       "\n",
       "          fans sub_price                                            pic_url  \\\n",
       "0       155700        -1  https://public.onlyfans.com/files/thumbs/c144/...   \n",
       "1       147300        -1  https://public.onlyfans.com/files/thumbs/c144/...   \n",
       "2       146000        -1  https://public.onlyfans.com/files/thumbs/c144/...   \n",
       "3       140900        -1  https://public.onlyfans.com/files/thumbs/c144/...   \n",
       "4       108800        -1  https://public.onlyfans.com/files/thumbs/c144/...   \n",
       "...        ...       ...                                                ...   \n",
       "101985      -1        20  https://public.onlyfans.com/files/thumbs/c144/...   \n",
       "101986      -1        -1  https://public.onlyfans.com/files/thumbs/c144/...   \n",
       "101987      -1        20  https://public.onlyfans.com/files/thumbs/c144/...   \n",
       "101988      -1         7  https://public.onlyfans.com/files/thumbs/c144/...   \n",
       "101989      -1         6  https://public.onlyfans.com/files/thumbs/c144/...   \n",
       "\n",
       "       offer video audio photo featured  \n",
       "0          0     0     0     0        0  \n",
       "1          0     0     0     0        0  \n",
       "2          0     0     0     0        0  \n",
       "3          0     0     0     0        0  \n",
       "4          0  None  None  None        0  \n",
       "...      ...   ...   ...   ...      ...  \n",
       "101985     0     0     0     0        0  \n",
       "101986     0     0     0     0        0  \n",
       "101987     0     0     0     0        0  \n",
       "101988     0     0     0     0        0  \n",
       "101989     0     0     0     0        0  \n",
       "\n",
       "[101990 rows x 12 columns]"
      ]
     },
     "metadata": {},
     "execution_count": 5
    }
   ],
   "metadata": {}
  },
  {
   "cell_type": "markdown",
   "source": [
    "# Pre-processing Onlyfans data"
   ],
   "metadata": {}
  },
  {
   "cell_type": "code",
   "execution_count": 6,
   "source": [
    "onlyfans = onlyfans.replace('-1', np.nan)\r\n",
    "onlyfans = onlyfans.replace(-1, np.nan)\r\n",
    "onlyfans = onlyfans.replace('Not found', np.nan)\r\n",
    "onlyfans.describe()\r\n",
    "\r\n",
    "\r\n",
    "# We drop all \"free\" alt accounts of influencers with paid accounts\r\n",
    "onlyfans = onlyfans[~onlyfans.name.str.contains(\"free\",case=False)]\r\n",
    "onlyfans = onlyfans[~onlyfans.username.str.contains(\"free\",case=False)]\r\n",
    "\r\n",
    "onlyfans = onlyfans.drop(['name','pic_url','photo','video','audio'],1)\r\n",
    "cols = onlyfans.columns\r\n",
    "\r\n",
    "onlyfans[cols[1:]] = onlyfans[cols[1:]].apply(pd.to_numeric, errors='coerce')"
   ],
   "outputs": [],
   "metadata": {}
  },
  {
   "cell_type": "code",
   "execution_count": 7,
   "source": [
    "onlyfans['likes_per_post'] = onlyfans['likes'] / onlyfans['posts'].astype(float,errors='ignore')\r\n",
    "onlyfans['likes_per_post'] = onlyfans['likes_per_post'].replace([np.inf, -np.inf], 0)\r\n",
    "# onlyfans['likes_per_post'] = onlyfans['likes_per_post'].fillna(0)\r\n",
    "onlyfans['engagement_rate'] =  onlyfans['likes_per_post'] / onlyfans['fans']\r\n",
    "onlyfans['engagement_rate'] = onlyfans['engagement_rate'].replace([np.inf, -np.inf], 0)\r\n"
   ],
   "outputs": [],
   "metadata": {}
  },
  {
   "cell_type": "markdown",
   "source": [
    "# Predicting missing Onlyfans data\r\n",
    "\r\n",
    "As only 3k of the ~100k creators in the OnlyFans dataset publish their fan count, and only 2k of those 3k publish their subscription price, we only have income data for ~2k creators. However, predicting the amount of fans from the average likes per post on these accounts should not be too difficult, as the amount of fans = (likes per post) / (engagement rate). The engagement rate can be relatively easily predicted from an account's features, and that can be used to calculate the amount of fans.\r\n",
    "\r\n",
    "The engagement rate tends to hover amount a mean very low mean of only a few %. While we will probably undershoot/overshoot the engagement rate of some creators, on average, the predictions will make sense. This will allow us to describe the revenue of creators more accurately, as we will have many more data points.\r\n",
    "\r\n",
    "The subscription price averages around $10, so setting all missing acounts to use this price should lead to accurate data. However, we can also try to predict the price as well. "
   ],
   "metadata": {}
  },
  {
   "cell_type": "markdown",
   "source": [
    "# Predicting the price for each creator\r\n",
    "\r\n",
    "This might not work, as the sub price is not decided by the amount of likes and the likes per post and such (which the amount of fans was). Instead, it is decided by the creator before fans ever engage.\r\n",
    "\r\n",
    "If this doesn't work, we can just use an avg price of $10.\r\n",
    "\r\n",
    "However, because 2k of the 3k creators that publish fan data also publish their subscription price, and 80k out of the total 100k creators publish their subscription price, we do not need to do so. The data that we have is already enough."
   ],
   "metadata": {}
  },
  {
   "cell_type": "code",
   "execution_count": 8,
   "source": [
    "# # multiple dimensions\r\n",
    "# mask = ~np.isnan(onlyfans.sub_price) & ~np.isnan(onlyfans.likes) & ~np.isnan(onlyfans.likes_per_post) & ~np.isnan(onlyfans.posts) & ~np.isnan(onlyfans.fans)\r\n",
    "# mask_2 = ~np.isnan(onlyfans.likes) & ~np.isnan(onlyfans.likes_per_post) & ~np.isnan(onlyfans.posts) & ~np.isnan(onlyfans.fans)\r\n",
    "# X = pd.DataFrame([onlyfans.likes[mask],onlyfans.likes_per_post[mask],onlyfans.posts[mask],onlyfans.fans[mask]]).T\r\n",
    "\r\n",
    "\r\n",
    "# y=np.array(onlyfans.sub_price[mask])\r\n",
    "# kernel =  10 * RBF(length_scale=[10000,10,30,100],length_scale_bounds=(10,10000)) + WhiteKernel(noise_level=0.1,noise_level_bounds=(1e-6,10))\r\n",
    "\r\n",
    "# gp = GaussianProcessRegressor(kernel=kernel).fit(X, y)\r\n",
    "# xlim=60000      \r\n",
    "# X_ = pd.DataFrame([onlyfans.likes[mask_2],onlyfans.likes_per_post[mask_2],onlyfans.posts[mask_2],onlyfans.fans[mask_2]]).T                        \r\n",
    "\r\n",
    "\r\n",
    "# plt.scatter(onlyfans.likes[mask], y, c='r', s=50, zorder=10, edgecolors=(0, 0, 0))\r\n",
    "# means, sigmas = gp.predict(X_,return_std=True)\r\n",
    "\r\n",
    "# myclip_a=3 \r\n",
    "# myclip_b=np.inf\r\n",
    "\r\n",
    "# Y_ = np.random.normal(means,sigmas)\r\n",
    "\r\n",
    "# # a, b = (myclip_a - means) / sigmas, (myclip_b - means) / sigmas\r\n",
    "# # Y_ = np.array([scipy.stats.truncnorm.stats(a[i], b[i], loc=means[i],scale=sigmas[i],moments='m') for i in range(len(means))])\r\n",
    "\r\n",
    "# Y_ = np.clip(Y_,myclip_a,None)\r\n",
    "# plt.scatter(onlyfans.likes[mask_2], Y_, c='b', s=10, zorder=10, edgecolors=(0, 0, 0))\r\n",
    "# plt.xlim(0,xlim)\r\n",
    "# plt.title(\"Initial: %s\\nOptimum: %s\\nLog-Marginal-Likelihood: %s\"\r\n",
    "#           % (kernel, gp.kernel_,\r\n",
    "#              gp.log_marginal_likelihood(gp.kernel_.theta)))\r\n",
    "# plt.tight_layout()\r\n",
    "\r\n",
    "# # gp.predict([[100]])\r\n",
    "# price_pred = Y_\r\n",
    "\r\n",
    "\r\n",
    "# price_pred_spaced_out = onlyfans.sub_price.copy(deep=True)\r\n",
    "# price_pred_spaced_out[:] = np.nan\r\n",
    "# price_pred_spaced_out[mask_2] = price_pred\r\n",
    "\r\n",
    "# price_pred_full = onlyfans.sub_price.copy(deep=True)\r\n",
    "# price_pred_full[onlyfans.sub_price.isna()] = price_pred_spaced_out[onlyfans.sub_price.isna()]\r\n",
    "\r\n",
    "# price_pred = price_pred_full\r\n",
    "\r\n",
    "# # ((gp.predict(X)  - y)**2).mean() \r\n",
    "\r\n",
    "\r\n",
    "\r\n"
   ],
   "outputs": [],
   "metadata": {}
  },
  {
   "cell_type": "code",
   "execution_count": 9,
   "source": [
    "# # Just set empty prices to $10, the median (but below the mean)\r\n",
    "\r\n",
    "\r\n",
    "# onlyfans['sub_price'] = price_pred\r\n",
    "# onlyfans.sub_price = onlyfans.sub_price.round()\r\n",
    "\r\n",
    "# onlyfans.sub_price.describe()"
   ],
   "outputs": [],
   "metadata": {}
  },
  {
   "cell_type": "markdown",
   "source": [
    "# Predicting the engagement rate from multiple variables\r\n",
    "\r\n",
    "Instead of just using likes, we can use the likes, like per posts, and amount of posts together.\r\n",
    "We can use this to predict the amount of fans later (indirectly)."
   ],
   "metadata": {}
  },
  {
   "cell_type": "code",
   "execution_count": 10,
   "source": [
    "\r\n",
    "# mask = ~np.isnan(onlyfans.likes) & ~np.isnan(onlyfans.posts) & ~np.isnan(onlyfans.engagement_rate)\r\n",
    "# mask_2 = ~np.isnan(onlyfans.likes) &  ~np.isnan(onlyfans.posts)\r\n",
    "# X = pd.DataFrame([onlyfans.likes[mask],onlyfans.posts[mask]]).T\r\n",
    "\r\n",
    "# y=np.array(onlyfans.engagement_rate[mask])\r\n",
    "\r\n",
    "# # kernel = 0.01 * RBF(length_scale=[10000,10,150],length_scale_bounds=(1e-6,1.47e+12)) + WhiteKernel(noise_level=5)\r\n",
    "# kernel =  0.01 * RBF(length_scale=[10000,150],length_scale_bounds=(30,20000)) + WhiteKernel(noise_level=0.1,noise_level_bounds=(1e-6,0.3))\r\n",
    "\r\n",
    "# gp = GaussianProcessRegressor(kernel=kernel).fit(X, y)\r\n",
    "# xlim=600000      \r\n",
    "# X_ = pd.DataFrame([onlyfans.likes[mask_2],onlyfans.posts[mask_2]]).T                        \r\n",
    "# means, sigmas = gp.predict(X_,return_std=True)\r\n",
    "\r\n",
    "# myclip_a=0.005\r\n",
    "# myclip_b=np.inf\r\n",
    "\r\n",
    "# Y_ = np.random.normal(means,sigmas)\r\n",
    "\r\n",
    "# # a, b = (myclip_a - means) / sigmas, (myclip_b - means) / sigmas\r\n",
    "# # Y_ = np.array([scipy.stats.truncnorm.stats(a[i], b[i], loc=means[i],scale=sigmas[i],moments='m') for i in range(len(means))])\r\n",
    "\r\n",
    "# engagement_rate_pred_jittery = np.clip(Y_,myclip_a,None)\r\n",
    "\r\n",
    "\r\n"
   ],
   "outputs": [],
   "metadata": {}
  },
  {
   "cell_type": "code",
   "execution_count": 11,
   "source": [
    "\r\n",
    "# plt.scatter(onlyfans.likes[mask], y, c='r', s=50, zorder=10, edgecolors=(0, 0, 0))\r\n",
    "# plt.xlim(0,50000)\r\n",
    "# plt.ylim(0,1)\r\n",
    "# plt.title(\"Initial: %s\\nOptimum: %s\\nLog-Marginal-Likelihood: %s\"\r\n",
    "#           % (kernel, gp.kernel_,\r\n",
    "#              gp.log_marginal_likelihood(gp.kernel_.theta)))\r\n",
    "# plt.tight_layout()\r\n",
    "\r\n",
    "# plt.scatter(onlyfans.likes[mask_2], engagement_rate_pred_jittery, c='b', s=10, zorder=10, edgecolors=(0, 0, 0))\r\n",
    "\r\n",
    "\r\n",
    "\r\n",
    "\r\n",
    "# engagement_rate_pred_jittery_spaced_out = onlyfans.engagement_rate.copy(deep=True)\r\n",
    "# engagement_rate_pred_jittery_spaced_out[:] = np.nan\r\n",
    "# engagement_rate_pred_jittery_spaced_out[mask_2] = engagement_rate_pred_jittery\r\n",
    "\r\n",
    "# engagement_rate_pred_jittery_full = onlyfans.engagement_rate.copy(deep=True)\r\n",
    "# engagement_rate_pred_jittery_full[onlyfans.engagement_rate.isna()] = engagement_rate_pred_jittery_spaced_out[onlyfans.engagement_rate.isna()]\r\n",
    "\r\n",
    "# engagement_rate_pred_jittery = engagement_rate_pred_jittery_full\r\n",
    "\r\n",
    "# indirect_pred_jittery = (onlyfans.likes_per_post/engagement_rate_pred_jittery)\r\n",
    "# indirect_pred_jittery = indirect_pred_jittery.replace([np.inf, -np.inf], 0)\r\n"
   ],
   "outputs": [],
   "metadata": {}
  },
  {
   "cell_type": "markdown",
   "source": [
    "# Calculating which fans prediction is best"
   ],
   "metadata": {}
  },
  {
   "cell_type": "code",
   "execution_count": 12,
   "source": [
    "# ((indirect_pred_jittery[mask]  - onlyfans.fans[mask])**2).mean() # good mse at 219k. median good at 0.029, mean good at 0.0624. max good at 0.67\r\n",
    "\r\n",
    "# indirect_pred_jittery.describe()\r\n",
    "\r\n"
   ],
   "outputs": [],
   "metadata": {}
  },
  {
   "cell_type": "markdown",
   "source": [
    "# Predicting the amount of fans for all creators"
   ],
   "metadata": {}
  },
  {
   "cell_type": "code",
   "execution_count": 13,
   "source": [
    "# # UNCOMMENT to predict fans for all 100k creators. Leave commented to just use the 3k creators that publish fans.\r\n",
    "\r\n",
    "# onlyfans.engagement_rate = engagement_rate_pred_jittery\r\n",
    "# onlyfans.fans = indirect_pred_jittery\r\n",
    "\r\n",
    "# onlyfans.fans = onlyfans.fans.round()\r\n",
    "# onlyfans.fans = onlyfans.fans.replace([np.inf, -np.inf], np.nan)\r\n"
   ],
   "outputs": [],
   "metadata": {}
  },
  {
   "cell_type": "code",
   "execution_count": 14,
   "source": [
    "# new_mask2.values.sum()\r\n",
    "# new_mask.values.sum()\r\n"
   ],
   "outputs": [],
   "metadata": {}
  },
  {
   "cell_type": "markdown",
   "source": [
    "# Calculating Onlyfans revenue"
   ],
   "metadata": {}
  },
  {
   "cell_type": "code",
   "execution_count": 15,
   "source": [
    "# monthly revenue\r\n",
    "onlyfans['revenue'] = onlyfans['sub_price'] * onlyfans['fans']\r\n",
    "\r\n",
    "onlyfans=onlyfans.sort_values(by=['revenue'])\r\n",
    "onlyfans.reset_index(drop=True, inplace=True)\r\n"
   ],
   "outputs": [],
   "metadata": {}
  },
  {
   "cell_type": "markdown",
   "source": [
    "# Plots"
   ],
   "metadata": {}
  },
  {
   "cell_type": "code",
   "execution_count": 16,
   "source": [
    "# TODO repeat the sampling like 10 times and append. plots won't change\r\n",
    "\r\n",
    "\r\n",
    "patreon.to_csv('patreon.csv',index=False)\r\n",
    "patreon.describe().round(2)"
   ],
   "outputs": [
    {
     "output_type": "execute_result",
     "data": {
      "text/html": [
       "<div>\n",
       "<style scoped>\n",
       "    .dataframe tbody tr th:only-of-type {\n",
       "        vertical-align: middle;\n",
       "    }\n",
       "\n",
       "    .dataframe tbody tr th {\n",
       "        vertical-align: top;\n",
       "    }\n",
       "\n",
       "    .dataframe thead th {\n",
       "        text-align: right;\n",
       "    }\n",
       "</style>\n",
       "<table border=\"1\" class=\"dataframe\">\n",
       "  <thead>\n",
       "    <tr style=\"text-align: right;\">\n",
       "      <th></th>\n",
       "      <th>patrons</th>\n",
       "      <th>earnings</th>\n",
       "      <th>supportPerPatron</th>\n",
       "      <th>daysRunning</th>\n",
       "    </tr>\n",
       "  </thead>\n",
       "  <tbody>\n",
       "    <tr>\n",
       "      <th>count</th>\n",
       "      <td>128556.00</td>\n",
       "      <td>128556.00</td>\n",
       "      <td>128556.00</td>\n",
       "      <td>128556.00</td>\n",
       "    </tr>\n",
       "    <tr>\n",
       "      <th>mean</th>\n",
       "      <td>32.53</td>\n",
       "      <td>178.44</td>\n",
       "      <td>6.93</td>\n",
       "      <td>817.24</td>\n",
       "    </tr>\n",
       "    <tr>\n",
       "      <th>std</th>\n",
       "      <td>262.60</td>\n",
       "      <td>1314.61</td>\n",
       "      <td>10.34</td>\n",
       "      <td>632.25</td>\n",
       "    </tr>\n",
       "    <tr>\n",
       "      <th>min</th>\n",
       "      <td>1.00</td>\n",
       "      <td>0.09</td>\n",
       "      <td>0.06</td>\n",
       "      <td>0.00</td>\n",
       "    </tr>\n",
       "    <tr>\n",
       "      <th>25%</th>\n",
       "      <td>2.00</td>\n",
       "      <td>8.42</td>\n",
       "      <td>2.85</td>\n",
       "      <td>316.00</td>\n",
       "    </tr>\n",
       "    <tr>\n",
       "      <th>50%</th>\n",
       "      <td>5.00</td>\n",
       "      <td>26.79</td>\n",
       "      <td>4.60</td>\n",
       "      <td>653.00</td>\n",
       "    </tr>\n",
       "    <tr>\n",
       "      <th>75%</th>\n",
       "      <td>15.00</td>\n",
       "      <td>96.68</td>\n",
       "      <td>8.12</td>\n",
       "      <td>1176.00</td>\n",
       "    </tr>\n",
       "    <tr>\n",
       "      <th>max</th>\n",
       "      <td>35787.00</td>\n",
       "      <td>172831.00</td>\n",
       "      <td>920.70</td>\n",
       "      <td>3043.00</td>\n",
       "    </tr>\n",
       "  </tbody>\n",
       "</table>\n",
       "</div>"
      ],
      "text/plain": [
       "         patrons   earnings  supportPerPatron  daysRunning\n",
       "count  128556.00  128556.00         128556.00    128556.00\n",
       "mean       32.53     178.44              6.93       817.24\n",
       "std       262.60    1314.61             10.34       632.25\n",
       "min         1.00       0.09              0.06         0.00\n",
       "25%         2.00       8.42              2.85       316.00\n",
       "50%         5.00      26.79              4.60       653.00\n",
       "75%        15.00      96.68              8.12      1176.00\n",
       "max     35787.00  172831.00            920.70      3043.00"
      ]
     },
     "metadata": {},
     "execution_count": 16
    }
   ],
   "metadata": {}
  },
  {
   "cell_type": "code",
   "execution_count": 17,
   "source": [
    "onlyfans.to_csv('onlyfans.csv',index=False)\r\n",
    "onlyfans.describe().round(2)"
   ],
   "outputs": [
    {
     "output_type": "execute_result",
     "data": {
      "text/html": [
       "<div>\n",
       "<style scoped>\n",
       "    .dataframe tbody tr th:only-of-type {\n",
       "        vertical-align: middle;\n",
       "    }\n",
       "\n",
       "    .dataframe tbody tr th {\n",
       "        vertical-align: top;\n",
       "    }\n",
       "\n",
       "    .dataframe thead th {\n",
       "        text-align: right;\n",
       "    }\n",
       "</style>\n",
       "<table border=\"1\" class=\"dataframe\">\n",
       "  <thead>\n",
       "    <tr style=\"text-align: right;\">\n",
       "      <th></th>\n",
       "      <th>posts</th>\n",
       "      <th>likes</th>\n",
       "      <th>fans</th>\n",
       "      <th>sub_price</th>\n",
       "      <th>offer</th>\n",
       "      <th>featured</th>\n",
       "      <th>likes_per_post</th>\n",
       "      <th>engagement_rate</th>\n",
       "      <th>revenue</th>\n",
       "    </tr>\n",
       "  </thead>\n",
       "  <tbody>\n",
       "    <tr>\n",
       "      <th>count</th>\n",
       "      <td>100254.00</td>\n",
       "      <td>69674.00</td>\n",
       "      <td>2744.00</td>\n",
       "      <td>80345.00</td>\n",
       "      <td>100254.00</td>\n",
       "      <td>100254.00</td>\n",
       "      <td>69674.00</td>\n",
       "      <td>2579.00</td>\n",
       "      <td>1907.00</td>\n",
       "    </tr>\n",
       "    <tr>\n",
       "      <th>mean</th>\n",
       "      <td>68.28</td>\n",
       "      <td>4536.68</td>\n",
       "      <td>925.50</td>\n",
       "      <td>12.11</td>\n",
       "      <td>1.24</td>\n",
       "      <td>0.00</td>\n",
       "      <td>14.03</td>\n",
       "      <td>0.69</td>\n",
       "      <td>491.77</td>\n",
       "    </tr>\n",
       "    <tr>\n",
       "      <th>std</th>\n",
       "      <td>315.14</td>\n",
       "      <td>56823.63</td>\n",
       "      <td>7673.47</td>\n",
       "      <td>8.16</td>\n",
       "      <td>8.15</td>\n",
       "      <td>0.01</td>\n",
       "      <td>115.40</td>\n",
       "      <td>1.67</td>\n",
       "      <td>5124.75</td>\n",
       "    </tr>\n",
       "    <tr>\n",
       "      <th>min</th>\n",
       "      <td>1.00</td>\n",
       "      <td>1.00</td>\n",
       "      <td>2.00</td>\n",
       "      <td>3.00</td>\n",
       "      <td>0.00</td>\n",
       "      <td>0.00</td>\n",
       "      <td>0.00</td>\n",
       "      <td>0.00</td>\n",
       "      <td>9.00</td>\n",
       "    </tr>\n",
       "    <tr>\n",
       "      <th>25%</th>\n",
       "      <td>4.00</td>\n",
       "      <td>13.00</td>\n",
       "      <td>5.00</td>\n",
       "      <td>7.00</td>\n",
       "      <td>0.00</td>\n",
       "      <td>0.00</td>\n",
       "      <td>1.33</td>\n",
       "      <td>0.12</td>\n",
       "      <td>40.00</td>\n",
       "    </tr>\n",
       "    <tr>\n",
       "      <th>50%</th>\n",
       "      <td>11.00</td>\n",
       "      <td>75.00</td>\n",
       "      <td>12.00</td>\n",
       "      <td>10.00</td>\n",
       "      <td>0.00</td>\n",
       "      <td>0.00</td>\n",
       "      <td>3.39</td>\n",
       "      <td>0.32</td>\n",
       "      <td>99.00</td>\n",
       "    </tr>\n",
       "    <tr>\n",
       "      <th>75%</th>\n",
       "      <td>38.00</td>\n",
       "      <td>436.00</td>\n",
       "      <td>42.00</td>\n",
       "      <td>15.00</td>\n",
       "      <td>0.00</td>\n",
       "      <td>0.00</td>\n",
       "      <td>8.60</td>\n",
       "      <td>0.71</td>\n",
       "      <td>255.00</td>\n",
       "    </tr>\n",
       "    <tr>\n",
       "      <th>max</th>\n",
       "      <td>18300.00</td>\n",
       "      <td>4000000.00</td>\n",
       "      <td>155700.00</td>\n",
       "      <td>100.00</td>\n",
       "      <td>90.00</td>\n",
       "      <td>1.00</td>\n",
       "      <td>12373.54</td>\n",
       "      <td>47.60</td>\n",
       "      <td>214400.00</td>\n",
       "    </tr>\n",
       "  </tbody>\n",
       "</table>\n",
       "</div>"
      ],
      "text/plain": [
       "           posts       likes       fans  sub_price      offer   featured  \\\n",
       "count  100254.00    69674.00    2744.00   80345.00  100254.00  100254.00   \n",
       "mean       68.28     4536.68     925.50      12.11       1.24       0.00   \n",
       "std       315.14    56823.63    7673.47       8.16       8.15       0.01   \n",
       "min         1.00        1.00       2.00       3.00       0.00       0.00   \n",
       "25%         4.00       13.00       5.00       7.00       0.00       0.00   \n",
       "50%        11.00       75.00      12.00      10.00       0.00       0.00   \n",
       "75%        38.00      436.00      42.00      15.00       0.00       0.00   \n",
       "max     18300.00  4000000.00  155700.00     100.00      90.00       1.00   \n",
       "\n",
       "       likes_per_post  engagement_rate    revenue  \n",
       "count        69674.00          2579.00    1907.00  \n",
       "mean            14.03             0.69     491.77  \n",
       "std            115.40             1.67    5124.75  \n",
       "min              0.00             0.00       9.00  \n",
       "25%              1.33             0.12      40.00  \n",
       "50%              3.39             0.32      99.00  \n",
       "75%              8.60             0.71     255.00  \n",
       "max          12373.54            47.60  214400.00  "
      ]
     },
     "metadata": {},
     "execution_count": 17
    }
   ],
   "metadata": {}
  },
  {
   "cell_type": "code",
   "execution_count": 18,
   "source": [
    "onlyfans = pd.read_csv(\"onlyfans.csv\")\r\n",
    "patreon=pd.read_csv(\"patreon.csv\")\r\n"
   ],
   "outputs": [],
   "metadata": {}
  },
  {
   "cell_type": "code",
   "execution_count": 19,
   "source": [
    "patreon2 = patreon.copy(deep=True)\r\n",
    "patreon2 = patreon2.drop(['link','description','daysRunning','patreonPublishedAt'],axis=1)\r\n",
    "patreon2.columns = ['name','fans','income','income_per_fan']\r\n",
    "patreon2['platform'] = 'Patreon'\r\n",
    "# patreon2\r\n",
    "\r\n",
    "onlyfans2=onlyfans.copy(deep=True)\r\n",
    "onlyfans2 = onlyfans2.drop(['posts','likes','offer','featured','engagement_rate','likes_per_post'],axis=1)\r\n",
    "onlyfans2 = onlyfans2[onlyfans2.columns[[0,1,3,2]]]\r\n",
    "onlyfans2.columns = ['name','fans','income','income_per_fan']\r\n",
    "onlyfans2['platform'] = 'Onlyfans'\r\n",
    "\r\n",
    "# combine the datasets so that we can plot joint figures\r\n",
    "combined = pd.concat([onlyfans2,patreon2],axis=0,ignore_index=True)\r\n",
    "\r\n",
    "# shuffle this dataset, because otherwise all onlyfans dots are drawn in front of the patreon dots, hiding the other dataset.\r\n",
    "# remove and re-add the first row after shuffling to make sure an onlyfans row always comes first (to ensure onlyfans is always blue, patreon is always orange)\r\n",
    "first_row = combined.loc[0]\r\n",
    "combined.drop(0, inplace=True)\r\n",
    "combined_shuffled = combined.sample(frac=1).reset_index(drop=True) \r\n",
    "combined_shuffled = pd.concat([first_row,combined_shuffled])\r\n",
    "\r\n",
    "combined = pd.concat([first_row,combined])\r\n"
   ],
   "outputs": [],
   "metadata": {}
  },
  {
   "cell_type": "code",
   "execution_count": 20,
   "source": [
    "# a_length = onlyfans.revenue.dropna().size\r\n",
    "# a = 100*(a/a_length)\r\n",
    "from matplotlib.pyplot import figure\r\n",
    "prop_cycle = plt.rcParams['axes.prop_cycle']\r\n",
    "colors = prop_cycle.by_key()['color']\r\n",
    "onlyfans_color = colors[0]\r\n",
    "patreon_color=colors[1]\r\n",
    "\r\n",
    "figure(figsize=(8, 6), dpi=80)\r\n",
    "\r\n",
    "width=50\r\n",
    "xlim = 5000\r\n",
    "hist1, bins1 = np.histogram(onlyfans.revenue.dropna(),bins=range(0,xlim+width,width))\r\n",
    "plt.bar(bins1[:-1],100*hist1.astype(np.float32) / hist1.sum(), width=(width),color=onlyfans_color,alpha=0.5,align='edge')\r\n",
    "\r\n",
    "hist2, bins2 = np.histogram(patreon.earnings.dropna(),bins=range(0,xlim+width,width))\r\n",
    "plt.bar(bins2[:-1],100*hist2.astype(np.float32) / hist2.sum(), width=(width),color=patreon_color,alpha=0.5,align='edge')\r\n",
    "\r\n",
    "# a.plot(kind='hist',bins=500,xlim=(0,10000),density=True)\r\n",
    "# patreon.earnings.dropna().plot(kind='hist',bins=500,xlim=(0,10000))\r\n",
    "plt.xlabel('Monthly revenue ($)')\r\n",
    "plt.xlim(0,xlim)\r\n",
    "plt.ylabel('% of Creators')\r\n",
    "\r\n",
    "# plt.ylim(0,200)"
   ],
   "outputs": [
    {
     "output_type": "execute_result",
     "data": {
      "text/plain": [
       "Text(0, 0.5, '% of Creators')"
      ]
     },
     "metadata": {},
     "execution_count": 20
    },
    {
     "output_type": "display_data",
     "data": {
      "image/png": "[encoded data removed]",
      "text/plain": [
       "<Figure size 640x480 with 1 Axes>"
      ]
     },
     "metadata": {
      "needs_background": "light"
     }
    }
   ],
   "metadata": {}
  },
  {
   "cell_type": "code",
   "execution_count": 21,
   "source": [
    "figure(figsize=(8, 6), dpi=80)\r\n",
    "\r\n",
    "width=5\r\n",
    "xlim = 100\r\n",
    "hist1, bins1 = np.histogram(onlyfans.sub_price.dropna(),bins=np.arange(0,onlyfans.sub_price.max(),width))\r\n",
    "plt.bar(bins1[:-1],100*hist1.astype(np.float32) / hist1.sum(), width=(width),color=onlyfans_color,alpha=0.5,align='edge')\r\n",
    "\r\n",
    "hist2, bins2 = np.histogram(patreon.supportPerPatron.dropna(),bins=np.arange(0,patreon.supportPerPatron.max(),width))\r\n",
    "plt.bar(bins2[:-1],100*hist2.astype(np.float32) / hist2.sum(), width=(width),color=patreon_color,alpha=0.5,align='edge')\r\n",
    "\r\n",
    "# a.plot(kind='hist',bins=500,xlim=(0,10000),density=True)\r\n",
    "# patreon.earnings.dropna().plot(kind='hist',bins=500,xlim=(0,10000))\r\n",
    "plt.xlabel('Revenue per fan ($)')\r\n",
    "plt.xlim(0,xlim)\r\n",
    "plt.ylabel('% of Creators')\r\n",
    "\r\n",
    "# plt.ylim(0,200)"
   ],
   "outputs": [
    {
     "output_type": "execute_result",
     "data": {
      "text/plain": [
       "Text(0, 0.5, '% of Creators')"
      ]
     },
     "metadata": {},
     "execution_count": 21
    },
    {
     "output_type": "display_data",
     "data": {
      "image/png": "[encoded data removed]",
      "text/plain": [
       "<Figure size 640x480 with 1 Axes>"
      ]
     },
     "metadata": {
      "needs_background": "light"
     }
    }
   ],
   "metadata": {}
  },
  {
   "cell_type": "code",
   "execution_count": 22,
   "source": [
    "figure(figsize=(8, 6), dpi=80)\r\n",
    "\r\n",
    "width=50\r\n",
    "xlim = 2000\r\n",
    "hist1, bins1 = np.histogram(onlyfans.fans.dropna(),bins=np.arange(0,onlyfans.fans.max(),width))\r\n",
    "plt.bar(bins1[:-1],100*hist1.astype(np.float32) / hist1.sum(), width=(width),color=onlyfans_color,alpha=0.5,align='edge')\r\n",
    "\r\n",
    "hist2, bins2 = np.histogram(patreon.patrons.dropna(),bins=np.arange(0,patreon.patrons.max(),width))\r\n",
    "plt.bar(bins2[:-1],100*hist2.astype(np.float32) / hist2.sum(), width=(width),color=patreon_color,alpha=0.5,align='edge')\r\n",
    "\r\n",
    "# a.plot(kind='hist',bins=500,xlim=(0,10000),density=True)\r\n",
    "# patreon.earnings.dropna().plot(kind='hist',bins=500,xlim=(0,10000))\r\n",
    "plt.xlabel('Amount of fans')\r\n",
    "plt.xlim(0,xlim)\r\n",
    "plt.ylabel('% of Creators')\r\n",
    "\r\n",
    "# plt.ylim(0,200)"
   ],
   "outputs": [
    {
     "output_type": "execute_result",
     "data": {
      "text/plain": [
       "Text(0, 0.5, '% of Creators')"
      ]
     },
     "metadata": {},
     "execution_count": 22
    },
    {
     "output_type": "display_data",
     "data": {
      "image/png": "[encoded data removed]",
      "text/plain": [
       "<Figure size 640x480 with 1 Axes>"
      ]
     },
     "metadata": {
      "needs_background": "light"
     }
    }
   ],
   "metadata": {}
  },
  {
   "cell_type": "code",
   "execution_count": 23,
   "source": [
    "figure(figsize=(8, 6), dpi=80)\r\n",
    "\r\n",
    "width=0.05\r\n",
    "xlim = 2\r\n",
    "hist1, bins1 = np.histogram(onlyfans.engagement_rate.dropna(),bins=np.arange(0,onlyfans.engagement_rate.max(),width))\r\n",
    "plt.bar(bins1[:-1],100*hist1.astype(np.float32) / hist1.sum(), width=(width),color=onlyfans_color,alpha=0.5,align='edge')\r\n",
    "\r\n",
    "# hist2, bins2 = np.histogram(patreon.patrons.dropna(),bins=range(0,xlim+width,width))\r\n",
    "# plt.bar(bins2[:-1],100*hist2.astype(np.float32) / hist2.sum(), width=(width),color=patreon_color,alpha=0.5,align='edge')\r\n",
    "\r\n",
    "# a.plot(kind='hist',bins=500,xlim=(0,10000),density=True)\r\n",
    "# patreon.earnings.dropna().plot(kind='hist',bins=500,xlim=(0,10000))\r\n",
    "plt.xlabel('Engagement rate')\r\n",
    "plt.xlim(0,xlim)\r\n",
    "plt.ylabel('% of Creators')\r\n",
    "\r\n",
    "# plt.ylim(0,200)"
   ],
   "outputs": [
    {
     "output_type": "execute_result",
     "data": {
      "text/plain": [
       "Text(0, 0.5, '% of Creators')"
      ]
     },
     "metadata": {},
     "execution_count": 23
    },
    {
     "output_type": "display_data",
     "data": {
      "image/png": "[encoded data removed]",
      "text/plain": [
       "<Figure size 640x480 with 1 Axes>"
      ]
     },
     "metadata": {
      "needs_background": "light"
     }
    }
   ],
   "metadata": {}
  },
  {
   "cell_type": "code",
   "execution_count": 24,
   "source": [
    "# TODO make histograms on the side, normalize them\r\n",
    "combined_shuffled2 = combined_shuffled.copy(deep=True)\r\n",
    "\r\n",
    "# we jitter the data a bit so it's more clear how \"populated\" a certain point is\r\n",
    "# because Onlyfans sub price is always an integer, that makes it hard to see how many dots there are unless you add a tiny bit of noise\r\n",
    "combined_shuffled2.fans += np.random.uniform(0,100,combined_shuffled2.fans.shape)\r\n",
    "combined_shuffled2.income += np.random.uniform(0,250,combined_shuffled2.income.shape)\r\n",
    "combined_shuffled2.income_per_fan += np.random.uniform(0,2,combined_shuffled2.income.shape)\r\n",
    "\r\n",
    "\r\n",
    "\r\n",
    "\r\n",
    "sns.jointplot(data=combined_shuffled2,x='fans',y='income_per_fan',xlim=(0,5000),ylim=(0,100),hue='platform',palette=[onlyfans_color,patreon_color],marker=\".\",joint_kws={\"s\": 30,'alpha':0.35})\r\n",
    "\r\n",
    "# joint_kws={\"s\": 20,'alpha':0.5}"
   ],
   "outputs": [
    {
     "output_type": "execute_result",
     "data": {
      "text/plain": [
       "<seaborn.axisgrid.JointGrid at 0x2432969b370>"
      ]
     },
     "metadata": {},
     "execution_count": 24
    },
    {
     "output_type": "display_data",
     "data": {
      "image/png": "[encoded data removed]",
      "text/plain": [
       "<Figure size 432x432 with 3 Axes>"
      ]
     },
     "metadata": {
      "needs_background": "light"
     }
    }
   ],
   "metadata": {}
  },
  {
   "cell_type": "code",
   "execution_count": 25,
   "source": [
    "# TODO why is the margin plot only showing Patreon data?\r\n",
    "\r\n",
    "sns.jointplot(data=combined_shuffled2,x='fans',y='income',xlim=(0,5000),ylim=(0,20000),hue='platform',palette=[onlyfans_color,patreon_color],marker=\".\",joint_kws={\"s\": 30,'alpha':0.5    })\r\n",
    "\r\n",
    "# joint_kws={\"s\": 20,'alpha':0.5}"
   ],
   "outputs": [
    {
     "output_type": "execute_result",
     "data": {
      "text/plain": [
       "<seaborn.axisgrid.JointGrid at 0x24329773dc0>"
      ]
     },
     "metadata": {},
     "execution_count": 25
    },
    {
     "output_type": "display_data",
     "data": {
      "image/png": "[encoded data removed]",
      "text/plain": [
       "<Figure size 432x432 with 3 Axes>"
      ]
     },
     "metadata": {
      "needs_background": "light"
     }
    }
   ],
   "metadata": {}
  },
  {
   "cell_type": "code",
   "execution_count": 26,
   "source": [
    "sns.jointplot(data=onlyfans,x='fans',y='engagement_rate',xlim=(0,2000),ylim=(0,2),marker=\".\",joint_kws={\"s\": 30,'alpha':1})\r\n"
   ],
   "outputs": [
    {
     "output_type": "execute_result",
     "data": {
      "text/plain": [
       "<seaborn.axisgrid.JointGrid at 0x2432a3d6640>"
      ]
     },
     "metadata": {},
     "execution_count": 26
    },
    {
     "output_type": "display_data",
     "data": {
      "image/png": "[encoded data removed]",
      "text/plain": [
       "<Figure size 432x432 with 3 Axes>"
      ]
     },
     "metadata": {
      "needs_background": "light"
     }
    }
   ],
   "metadata": {}
  },
  {
   "cell_type": "code",
   "execution_count": 27,
   "source": [
    "\r\n",
    "sns.jointplot(data=patreon,x='daysRunning',y='patrons',xlim=(0,3000),ylim=(0,5000),color=patreon_color,marker=\".\",joint_kws={\"s\": 30,'alpha':1})\r\n"
   ],
   "outputs": [
    {
     "output_type": "execute_result",
     "data": {
      "text/plain": [
       "<seaborn.axisgrid.JointGrid at 0x2434183fe50>"
      ]
     },
     "metadata": {},
     "execution_count": 27
    },
    {
     "output_type": "display_data",
     "data": {
      "image/png": "[encoded data removed]",
      "text/plain": [
       "<Figure size 432x432 with 3 Axes>"
      ]
     },
     "metadata": {
      "needs_background": "light"
     }
    }
   ],
   "metadata": {}
  },
  {
   "cell_type": "code",
   "execution_count": 28,
   "source": [
    "sns.jointplot(data=patreon,x='daysRunning',y='earnings',xlim=(0,3000),ylim=(0,20000),color=patreon_color,marker=\".\",joint_kws={\"s\": 30,'alpha':1})\r\n"
   ],
   "outputs": [
    {
     "output_type": "execute_result",
     "data": {
      "text/plain": [
       "<seaborn.axisgrid.JointGrid at 0x24341e9f250>"
      ]
     },
     "metadata": {},
     "execution_count": 28
    },
    {
     "output_type": "display_data",
     "data": {
      "image/png": "[encoded data removed]",
      "text/plain": [
       "<Figure size 432x432 with 3 Axes>"
      ]
     },
     "metadata": {
      "needs_background": "light"
     }
    }
   ],
   "metadata": {}
  },
  {
   "cell_type": "markdown",
   "source": [
    "# Calculating indices and percentages of income\r\n",
    "\r\n",
    "This bit is still from Thomas Hollands' original source code."
   ],
   "metadata": {}
  },
  {
   "cell_type": "code",
   "execution_count": 29,
   "source": [
    "print(\"Onlyfans\")\r\n",
    "# what percentaige of revenue is top account?\r\n",
    "total_rev = onlyfans['revenue'].sum()\r\n",
    "num_acc = onlyfans['revenue'].count()\r\n",
    "max_rev = onlyfans['revenue'].max()\r\n",
    "top_10p = onlyfans['revenue'].nlargest(int(np.floor(onlyfans['revenue'].count()*0.10))).sum()\r\n",
    "top_1p = onlyfans['revenue'].nlargest(int(np.floor(onlyfans['revenue'].count()*0.01))).sum()\r\n",
    "top_20p = onlyfans['revenue'].nlargest(int(np.floor(onlyfans['revenue'].count()*0.2))).sum()\r\n",
    "print(\"The top creator makes\",np.round(100*max_rev/total_rev,2), \"% of all income\")\r\n",
    "print('Top 10%:', np.round(100*top_10p/total_rev,2),\"%\")\r\n",
    "print('Top 1%:', np.round(100*top_1p/total_rev,2),\"%\")\r\n",
    "print('Top 20%:',np.round(100*top_20p/total_rev,2),\"%\")\r\n",
    "# top 10% make 73% of the total revenue\r\n",
    "# top 1% makes 57% of total revenue\r\n",
    "\r\n",
    "print(\"\\nPatreon\")\r\n",
    "# what percentaige of revenue is top account?\r\n",
    "total_rev = patreon['earnings'].sum()\r\n",
    "num_acc = patreon['earnings'].count()\r\n",
    "max_rev = patreon['earnings'].max()\r\n",
    "top_10p = patreon['earnings'].nlargest(int(np.floor(patreon['earnings'].count()*0.10))).sum()\r\n",
    "top_1p = patreon['earnings'].nlargest(int(np.floor(patreon['earnings'].count()*0.01))).sum()\r\n",
    "top_20p = patreon['earnings'].nlargest(int(np.floor(patreon['earnings'].count()*0.2))).sum()\r\n",
    "print(\"The top creator makes\",np.round(100*max_rev/total_rev,2), \"% of all income\")\r\n",
    "print('Top 10%:', np.round(100*top_10p/total_rev,2),\"%\")\r\n",
    "print('Top 1%:', np.round(100*top_1p/total_rev,2),\"%\")\r\n",
    "print('Top 20%:',np.round(100*top_20p/total_rev,2),\"%\")\r\n",
    "# top 10% make 73% of the total revenue\r\n",
    "# top 1% makes 57% of total revenue"
   ],
   "outputs": [
    {
     "output_type": "stream",
     "name": "stdout",
     "text": [
      "Onlyfans\n",
      "The top creator makes 22.86 % of all income\n",
      "Top 10%: 74.47 %\n",
      "Top 1%: 45.66 %\n",
      "Top 20%: 84.36 %\n",
      "\n",
      "Patreon\n",
      "The top creator makes 0.75 % of all income\n",
      "Top 10%: 75.5 %\n",
      "Top 1%: 38.24 %\n",
      "Top 20%: 86.7 %\n"
     ]
    }
   ],
   "metadata": {}
  },
  {
   "cell_type": "markdown",
   "source": [
    "# Calculating Gini index for Onlyfans and Patreon\r\n",
    "\r\n",
    "The higher this index is, the higher the inequality in a society is. For example, the country with the highest Gini index, South Africa, has an index of 63. The US has a Gini index of 41.4 or 47 (depending on whether you ask the world bank or the CIA), the EU has a Gini of ~30. Slovenia has the lowest Gini index, of 23 to 24.\r\n",
    "\r\n",
    "Income inequality on Patreon and Onlyfans is much worse, as you will see below.\r\n",
    "\r\n",
    "This bit is still from Thomas Hollands' original source code."
   ],
   "metadata": {}
  },
  {
   "cell_type": "code",
   "execution_count": 30,
   "source": [
    "def gini(array):\r\n",
    "    \"\"\"Calculate the Gini coefficient of a numpy array.\"\"\"\r\n",
    "    # based on bottom eq: http://www.statsdirect.com/help/content/image/stat0206_wmf.gif\r\n",
    "    # from: http://www.statsdirect.com/help/default.htm#nonparametric_methods/gini.htm\r\n",
    "    array = array.flatten() #all values are treated equally, arrays must be 1d\r\n",
    "    if np.amin(array) < 0:\r\n",
    "        array -= np.amin(array) #values cannot be negative\r\n",
    "    array += 0.0000001 #values cannot be 0\r\n",
    "    array = np.sort(array) #values must be sorted\r\n",
    "    index = np.arange(1,array.shape[0]+1) #index per array element\r\n",
    "    n = array.shape[0]#number of array elements\r\n",
    "    return 100*((np.sum((2 * index - n  - 1) * array)) / (n * np.sum(array))) #Gini coefficient\r\n",
    "\r\n",
    "print(\"Onlyfans Gini coefficient\")\r\n",
    "print(gini(np.array(onlyfans['revenue'].dropna())))\r\n",
    "\r\n",
    "print(\"\\nPatreon Gini coefficient\")\r\n",
    "print(gini(np.array(patreon['earnings'].dropna())))\r\n",
    "# gini coefficient of 0.89"
   ],
   "outputs": [
    {
     "output_type": "stream",
     "name": "stdout",
     "text": [
      "Onlyfans Gini coefficient\n",
      "81.53149803046662\n",
      "\n",
      "Patreon Gini coefficient\n",
      "83.4907029794498\n"
     ]
    }
   ],
   "metadata": {}
  },
  {
   "cell_type": "markdown",
   "source": [
    "# Estimating yearly revenue of the companies"
   ],
   "metadata": {}
  },
  {
   "cell_type": "code",
   "execution_count": 31,
   "source": [
    "# get total revenue of onlyfans\r\n",
    "n_creators = 0.75e6 # half of stated in https://famemass.com/onlyfans-statistics/\r\n",
    "rev_per_creator = onlyfans['revenue'].mean() * 0.2\r\n",
    "total_rev_month = n_creators * rev_per_creator\r\n",
    "total_rev = total_rev_month * 12\r\n",
    "print('Top-down estimate of yearly Onlyfans revenue is: $',np.round(total_rev / 1e9,2),\"B\")\r\n",
    "# bottom up calc\r\n",
    "n_paying_users = 75e6 # half of 150m users, extrapolated from https://famemass.com/onlyfans-statistics/\r\n",
    "mean_sub_price = onlyfans['sub_price'].mean() \r\n",
    "monthly_rev = mean_sub_price*n_paying_users * 0.2\r\n",
    "yearly_rev = 12 * monthly_rev\r\n",
    "print('Bottom-up estimate of yearly Onlyfans revenue is: $',np.round(yearly_rev / 1e9,2),\"B\")\r\n",
    "\r\n",
    "\r\n",
    "print(\"\\n\")\r\n",
    "\r\n",
    "# get total revenue of patreon\r\n",
    "# Patreon takes 5%, 8% or 12% of your income depending on your account plan\r\n",
    "# 8% is probably the most common\r\n",
    "n_creators = 187000 # more than 187000 are supported by at least one Patron https://backlinko.com/patreon-users\r\n",
    "rev_per_creator = patreon.earnings.mean() * 0.08\r\n",
    "total_rev_month = n_creators * rev_per_creator\r\n",
    "total_rev = total_rev_month * 12\r\n",
    "print('Top-down estimate of yearly Patreon revenue is: $',np.round(total_rev / 1e6,2),\"M\")\r\n",
    "# bottom up calc\r\n",
    "n_paying_users = 6e6 # 6m monthly active supporters https://backlinko.com/patreon-users\r\n",
    "mean_sub_price = patreon.supportPerPatron.mean()\r\n",
    "monthly_rev = mean_sub_price*n_paying_users * 0.08\r\n",
    "yearly_rev = 12 * monthly_rev\r\n",
    "print('Bottom-up estimate of yearly Patreon revenue is: $',np.round(yearly_rev / 1e6,2),\"M\")\r\n",
    "\r\n"
   ],
   "outputs": [
    {
     "output_type": "stream",
     "name": "stdout",
     "text": [
      "Top-down estimate of yearly Onlyfans revenue is: $ 0.89 B\n",
      "Bottom-up estimate of yearly Onlyfans revenue is: $ 2.18 B\n",
      "\n",
      "\n",
      "Top-down estimate of yearly Patreon revenue is: $ 32.03 M\n",
      "Bottom-up estimate of yearly Patreon revenue is: $ 39.91 M\n"
     ]
    }
   ],
   "metadata": {}
  },
  {
   "cell_type": "markdown",
   "source": [
    "These numbers make sense.\r\n",
    "\r\n",
    "As per [this article](https://www.statista.com/chart/25625/onlyfans-projected-revenue-and-gmv/), \"OnlyFans expected gross merchandise value to grow from $2.2 billion in 2020 to $12.5 billion next year, with net revenue also expected to increase more than five-fold to $2.5 billion by 2022.\"\r\n",
    "\r\n",
    "Patreon revenue was estimated to be [$70M](https://growjo.com/company/Patreon) to [$80M](https://backlinko.com/patreon-users) in 2020, so we are a bit on the low side."
   ],
   "metadata": {}
  }
 ],
 "metadata": {
  "kernelspec": {
   "name": "python3",
   "display_name": "Python 3.8.5 64-bit"
  },
  "language_info": {
   "codemirror_mode": {
    "name": "ipython",
    "version": 3
   },
   "file_extension": ".py",
   "mimetype": "text/x-python",
   "name": "python",
   "nbconvert_exporter": "python",
   "pygments_lexer": "ipython3",
   "version": "3.8.5"
  },
  "interpreter": {
   "hash": "acaf3325e2b9610722d5876fb194b771aa7b4a569003e8df92eaafe48eb5ed50"
  }
 },
 "nbformat": 4,
 "nbformat_minor": 2
}